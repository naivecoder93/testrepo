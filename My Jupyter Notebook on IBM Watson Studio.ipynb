{
    "cells": [
        {
            "cell_type": "markdown",
            "metadata": {
                "collapsed": true
            },
            "source": "# My Jupyter Notebook on IBM Watson Studio"
        },
        {
            "cell_type": "markdown",
            "metadata": {},
            "source": "**Bijesh Nair**\n\nTo be one of the Best Data Scientists"
        },
        {
            "cell_type": "markdown",
            "metadata": {},
            "source": "*I am interested in data science because it is very Facinating, challenging and problem solving*"
        },
        {
            "cell_type": "markdown",
            "metadata": {},
            "source": "### The following code is a simple substraction code"
        },
        {
            "cell_type": "code",
            "execution_count": 21,
            "metadata": {
                "scrolled": true
            },
            "outputs": [
                {
                    "data": {
                        "text/plain": "10101010"
                    },
                    "execution_count": 21,
                    "metadata": {},
                    "output_type": "execute_result"
                }
            ],
            "source": "a=11110000\nb=1008990\na-b"
        },
        {
            "cell_type": "markdown",
            "metadata": {},
            "source": "---\n- One\n- Two\n- Three\n- One\n- Two\n- Three\n\n|~~Markdown~~|~~Less~~|~~Pretty~~|\n|--------|----|------|\n|Still|   Renders|Nicely|\n|1|2|3|"
        }
    ],
    "metadata": {
        "kernelspec": {
            "display_name": "Python 3.8",
            "language": "python",
            "name": "python3"
        },
        "language_info": {
            "codemirror_mode": {
                "name": "ipython",
                "version": 3
            },
            "file_extension": ".py",
            "mimetype": "text/x-python",
            "name": "python",
            "nbconvert_exporter": "python",
            "pygments_lexer": "ipython3",
            "version": "3.8.11"
        }
    },
    "nbformat": 4,
    "nbformat_minor": 1
}